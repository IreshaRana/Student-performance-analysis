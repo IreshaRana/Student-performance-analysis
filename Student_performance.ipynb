{
 "cells": [
  {
   "cell_type": "markdown",
   "id": "eafd6a43",
   "metadata": {},
   "source": [
    "# Generate data"
   ]
  },
  {
   "cell_type": "code",
   "execution_count": 1,
   "id": "2c2f8ded",
   "metadata": {},
   "outputs": [
    {
     "name": "stderr",
     "output_type": "stream",
     "text": [
      "\n",
      "Attaching package: 'dplyr'\n",
      "\n",
      "\n",
      "The following objects are masked from 'package:stats':\n",
      "\n",
      "    filter, lag\n",
      "\n",
      "\n",
      "The following objects are masked from 'package:base':\n",
      "\n",
      "    intersect, setdiff, setequal, union\n",
      "\n",
      "\n"
     ]
    },
    {
     "data": {
      "text/html": [
       "<table class=\"dataframe\">\n",
       "<caption>A data.frame: 6 × 10</caption>\n",
       "<thead>\n",
       "\t<tr><th></th><th scope=col>Student_ID</th><th scope=col>Assessment_1</th><th scope=col>Assessment_2</th><th scope=col>Assessment_3A</th><th scope=col>Assessment_3B</th><th scope=col>Log_in_Frequency</th><th scope=col>Session_Duration</th><th scope=col>Program_code</th><th scope=col>Enrollment_Status</th><th scope=col>Final_Score</th></tr>\n",
       "\t<tr><th></th><th scope=col>&lt;int&gt;</th><th scope=col>&lt;dbl&gt;</th><th scope=col>&lt;dbl&gt;</th><th scope=col>&lt;dbl&gt;</th><th scope=col>&lt;dbl&gt;</th><th scope=col>&lt;int&gt;</th><th scope=col>&lt;dbl&gt;</th><th scope=col>&lt;int&gt;</th><th scope=col>&lt;chr&gt;</th><th scope=col>&lt;dbl&gt;</th></tr>\n",
       "</thead>\n",
       "<tbody>\n",
       "\t<tr><th scope=row>1</th><td>1</td><td>91.5</td><td>21.0</td><td>39.0</td><td>57.8</td><td>12</td><td>49.1</td><td>10</td><td>Part-time</td><td>43.4</td></tr>\n",
       "\t<tr><th scope=row>2</th><td>2</td><td>93.7</td><td>51.9</td><td>63.0</td><td>22.3</td><td> 3</td><td>41.1</td><td> 1</td><td>Full-time</td><td>57.6</td></tr>\n",
       "\t<tr><th scope=row>3</th><td>3</td><td>28.6</td><td>75.7</td><td> 2.6</td><td>85.4</td><td>29</td><td>50.5</td><td> 2</td><td>Full-time</td><td>44.5</td></tr>\n",
       "\t<tr><th scope=row>4</th><td>4</td><td>83.0</td><td>11.9</td><td>77.5</td><td>54.5</td><td>15</td><td>71.7</td><td> 1</td><td>Full-time</td><td>51.9</td></tr>\n",
       "\t<tr><th scope=row>5</th><td>5</td><td>64.2</td><td>80.6</td><td> 7.1</td><td>33.2</td><td>14</td><td>53.7</td><td> 7</td><td>Full-time</td><td>45.3</td></tr>\n",
       "\t<tr><th scope=row>6</th><td>6</td><td>51.9</td><td>40.5</td><td>85.6</td><td>56.0</td><td> 1</td><td>26.2</td><td> 3</td><td>Part-time</td><td>60.3</td></tr>\n",
       "</tbody>\n",
       "</table>\n"
      ],
      "text/latex": [
       "A data.frame: 6 × 10\n",
       "\\begin{tabular}{r|llllllllll}\n",
       "  & Student\\_ID & Assessment\\_1 & Assessment\\_2 & Assessment\\_3A & Assessment\\_3B & Log\\_in\\_Frequency & Session\\_Duration & Program\\_code & Enrollment\\_Status & Final\\_Score\\\\\n",
       "  & <int> & <dbl> & <dbl> & <dbl> & <dbl> & <int> & <dbl> & <int> & <chr> & <dbl>\\\\\n",
       "\\hline\n",
       "\t1 & 1 & 91.5 & 21.0 & 39.0 & 57.8 & 12 & 49.1 & 10 & Part-time & 43.4\\\\\n",
       "\t2 & 2 & 93.7 & 51.9 & 63.0 & 22.3 &  3 & 41.1 &  1 & Full-time & 57.6\\\\\n",
       "\t3 & 3 & 28.6 & 75.7 &  2.6 & 85.4 & 29 & 50.5 &  2 & Full-time & 44.5\\\\\n",
       "\t4 & 4 & 83.0 & 11.9 & 77.5 & 54.5 & 15 & 71.7 &  1 & Full-time & 51.9\\\\\n",
       "\t5 & 5 & 64.2 & 80.6 &  7.1 & 33.2 & 14 & 53.7 &  7 & Full-time & 45.3\\\\\n",
       "\t6 & 6 & 51.9 & 40.5 & 85.6 & 56.0 &  1 & 26.2 &  3 & Part-time & 60.3\\\\\n",
       "\\end{tabular}\n"
      ],
      "text/markdown": [
       "\n",
       "A data.frame: 6 × 10\n",
       "\n",
       "| <!--/--> | Student_ID &lt;int&gt; | Assessment_1 &lt;dbl&gt; | Assessment_2 &lt;dbl&gt; | Assessment_3A &lt;dbl&gt; | Assessment_3B &lt;dbl&gt; | Log_in_Frequency &lt;int&gt; | Session_Duration &lt;dbl&gt; | Program_code &lt;int&gt; | Enrollment_Status &lt;chr&gt; | Final_Score &lt;dbl&gt; |\n",
       "|---|---|---|---|---|---|---|---|---|---|---|\n",
       "| 1 | 1 | 91.5 | 21.0 | 39.0 | 57.8 | 12 | 49.1 | 10 | Part-time | 43.4 |\n",
       "| 2 | 2 | 93.7 | 51.9 | 63.0 | 22.3 |  3 | 41.1 |  1 | Full-time | 57.6 |\n",
       "| 3 | 3 | 28.6 | 75.7 |  2.6 | 85.4 | 29 | 50.5 |  2 | Full-time | 44.5 |\n",
       "| 4 | 4 | 83.0 | 11.9 | 77.5 | 54.5 | 15 | 71.7 |  1 | Full-time | 51.9 |\n",
       "| 5 | 5 | 64.2 | 80.6 |  7.1 | 33.2 | 14 | 53.7 |  7 | Full-time | 45.3 |\n",
       "| 6 | 6 | 51.9 | 40.5 | 85.6 | 56.0 |  1 | 26.2 |  3 | Part-time | 60.3 |\n",
       "\n"
      ],
      "text/plain": [
       "  Student_ID Assessment_1 Assessment_2 Assessment_3A Assessment_3B\n",
       "1 1          91.5         21.0         39.0          57.8         \n",
       "2 2          93.7         51.9         63.0          22.3         \n",
       "3 3          28.6         75.7          2.6          85.4         \n",
       "4 4          83.0         11.9         77.5          54.5         \n",
       "5 5          64.2         80.6          7.1          33.2         \n",
       "6 6          51.9         40.5         85.6          56.0         \n",
       "  Log_in_Frequency Session_Duration Program_code Enrollment_Status Final_Score\n",
       "1 12               49.1             10           Part-time         43.4       \n",
       "2  3               41.1              1           Full-time         57.6       \n",
       "3 29               50.5              2           Full-time         44.5       \n",
       "4 15               71.7              1           Full-time         51.9       \n",
       "5 14               53.7              7           Full-time         45.3       \n",
       "6  1               26.2              3           Part-time         60.3       "
      ]
     },
     "metadata": {},
     "output_type": "display_data"
    }
   ],
   "source": [
    "# Create a synthetic data set\n",
    "\n",
    "# Load required libraries\n",
    "library(dplyr)\n",
    "\n",
    "# Set seed for reproducibility\n",
    "set.seed(42)\n",
    "\n",
    "# Create synthetic dataset\n",
    "n_students <- 480\n",
    "student_data <- data.frame(\n",
    "  Student_ID = 1:n_students,\n",
    "  Assessment_1 = round(runif(n_students, min = 00, max = 100), 1),  # Random scores for Assessment 1\n",
    "  Assessment_2 = round(runif(n_students, min = 00, max = 90), 1),  # Random scores for Assessment 2\n",
    "  Assessment_3A = round(runif(n_students, min = 00, max = 95), 1), # Random scores for Assessment 3A\n",
    "  Assessment_3B = round(runif(n_students, min = 00, max = 92), 1), # Random scores for Assessment 3B\n",
    "  Log_in_Frequency = sample(1:30, n_students, replace = TRUE),      # Random login frequencies\n",
    "  Session_Duration = round(runif(n_students, min = 1, max = 75), 1), # Random session durations\n",
    "  Program_code = sample(1:15, n_students, replace = TRUE),          # Random program codes\n",
    "  Enrollment_Status = sample(c(\"Full-time\", \"Part-time\"), n_students, replace = TRUE) # Random enrollment status\n",
    ")\n",
    "\n",
    "# Calculate final score\n",
    "student_data <- student_data %>%\n",
    "  mutate(\n",
    "    Final_Score = round(Assessment_1 * 0.15 + Assessment_2 * 0.35 + Assessment_3A * 0.35 + Assessment_3B * 0.15, 1)\n",
    "  )\n",
    "\n",
    "# View first few rows of the dataset\n",
    "head(student_data)\n"
   ]
  },
  {
   "cell_type": "markdown",
   "id": "f963a9ca",
   "metadata": {},
   "source": [
    "# Explore data"
   ]
  },
  {
   "cell_type": "markdown",
   "id": "8101fd23",
   "metadata": {},
   "source": [
    "## Calculate summary statistics"
   ]
  },
  {
   "cell_type": "code",
   "execution_count": 2,
   "id": "dae87ea3",
   "metadata": {},
   "outputs": [
    {
     "name": "stdout",
     "output_type": "stream",
     "text": [
      "     Assessment     Mean Median       SD\n",
      "1  Assessment 1 49.10813  48.10 29.22413\n",
      "2  Assessment 2 44.27833  43.65 26.09379\n",
      "3 Assessment 3A 45.64375  44.75 27.80318\n",
      "4 Assessment 3B 46.12313  48.95 27.34912\n",
      "5   Final Score 45.75646  45.65 14.30714\n"
     ]
    }
   ],
   "source": [
    "\n",
    "\n",
    "# Calculate Mean, Median, and SD for each assessment and final score\n",
    "summary_stats <- data.frame(\n",
    "  Assessment = c(\"Assessment 1\", \"Assessment 2\", \"Assessment 3A\", \"Assessment 3B\", \"Final Score\"),\n",
    "  Mean = c(mean(student_data$Assessment_1), mean(student_data$Assessment_2), mean(student_data$Assessment_3A), mean(student_data$Assessment_3B), mean(student_data$Final_Score)),\n",
    "  Median = c(median(student_data$Assessment_1), median(student_data$Assessment_2), median(student_data$Assessment_3A), median(student_data$Assessment_3B), median(student_data$Final_Score)),\n",
    "  SD = c(sd(student_data$Assessment_1), sd(student_data$Assessment_2), sd(student_data$Assessment_3A), sd(student_data$Assessment_3B), sd(student_data$Final_Score))\n",
    ")\n",
    "\n",
    "# Print the summary statistics table\n",
    "print(summary_stats)"
   ]
  },
  {
   "cell_type": "markdown",
   "id": "5b300467",
   "metadata": {},
   "source": [
    "### Display in interactive table"
   ]
  },
  {
   "cell_type": "code",
   "execution_count": 4,
   "id": "7212b525",
   "metadata": {},
   "outputs": [
    {
     "name": "stderr",
     "output_type": "stream",
     "text": [
      "Installing package into 'C:/Users/NexteqSolutions-UAT/AppData/Local/R/win-library/4.4'\n",
      "(as 'lib' is unspecified)\n",
      "\n"
     ]
    },
    {
     "name": "stdout",
     "output_type": "stream",
     "text": [
      "package 'DT' successfully unpacked and MD5 sums checked\n",
      "\n",
      "The downloaded binary packages are in\n",
      "\tC:\\Users\\NexteqSolutions-UAT\\AppData\\Local\\Temp\\RtmpMdTrqi\\downloaded_packages\n"
     ]
    }
   ],
   "source": [
    "# Install and load DT package \n",
    "install.packages(\"DT\")\n",
    "library(DT)"
   ]
  },
  {
   "cell_type": "code",
   "execution_count": 3,
   "id": "ee98435f",
   "metadata": {},
   "outputs": [
    {
     "ename": "ERROR",
     "evalue": "Error in datatable(summary_stats, options = list(pageLength = 5, autoWidth = TRUE)): could not find function \"datatable\"\n",
     "output_type": "error",
     "traceback": [
      "Error in datatable(summary_stats, options = list(pageLength = 5, autoWidth = TRUE)): could not find function \"datatable\"\nTraceback:\n"
     ]
    }
   ],
   "source": [
    "# Render the summary statistics as an interactive table\n",
    "datatable(summary_stats, options = list(pageLength = 5, autoWidth = TRUE))"
   ]
  },
  {
   "cell_type": "markdown",
   "id": "abd5f190",
   "metadata": {},
   "source": [
    "# Data Manipulation"
   ]
  },
  {
   "cell_type": "markdown",
   "id": "d4ba2301",
   "metadata": {},
   "source": [
    "## Add a grade column"
   ]
  },
  {
   "cell_type": "code",
   "execution_count": 5,
   "id": "bdda17a2",
   "metadata": {},
   "outputs": [
    {
     "data": {
      "text/html": [
       "<table class=\"dataframe\">\n",
       "<caption>A data.frame: 6 × 11</caption>\n",
       "<thead>\n",
       "\t<tr><th></th><th scope=col>Student_ID</th><th scope=col>Assessment_1</th><th scope=col>Assessment_2</th><th scope=col>Assessment_3A</th><th scope=col>Assessment_3B</th><th scope=col>Log_in_Frequency</th><th scope=col>Session_Duration</th><th scope=col>Program_code</th><th scope=col>Enrollment_Status</th><th scope=col>Final_Score</th><th scope=col>Grade</th></tr>\n",
       "\t<tr><th></th><th scope=col>&lt;int&gt;</th><th scope=col>&lt;dbl&gt;</th><th scope=col>&lt;dbl&gt;</th><th scope=col>&lt;dbl&gt;</th><th scope=col>&lt;dbl&gt;</th><th scope=col>&lt;int&gt;</th><th scope=col>&lt;dbl&gt;</th><th scope=col>&lt;int&gt;</th><th scope=col>&lt;chr&gt;</th><th scope=col>&lt;dbl&gt;</th><th scope=col>&lt;chr&gt;</th></tr>\n",
       "</thead>\n",
       "<tbody>\n",
       "\t<tr><th scope=row>1</th><td>1</td><td>91.5</td><td>21.0</td><td>39.0</td><td>57.8</td><td>12</td><td>49.1</td><td>10</td><td>Part-time</td><td>43.4</td><td>Fail  </td></tr>\n",
       "\t<tr><th scope=row>2</th><td>2</td><td>93.7</td><td>51.9</td><td>63.0</td><td>22.3</td><td> 3</td><td>41.1</td><td> 1</td><td>Full-time</td><td>57.6</td><td>Pass  </td></tr>\n",
       "\t<tr><th scope=row>3</th><td>3</td><td>28.6</td><td>75.7</td><td> 2.6</td><td>85.4</td><td>29</td><td>50.5</td><td> 2</td><td>Full-time</td><td>44.5</td><td>Fail  </td></tr>\n",
       "\t<tr><th scope=row>4</th><td>4</td><td>83.0</td><td>11.9</td><td>77.5</td><td>54.5</td><td>15</td><td>71.7</td><td> 1</td><td>Full-time</td><td>51.9</td><td>Pass  </td></tr>\n",
       "\t<tr><th scope=row>5</th><td>5</td><td>64.2</td><td>80.6</td><td> 7.1</td><td>33.2</td><td>14</td><td>53.7</td><td> 7</td><td>Full-time</td><td>45.3</td><td>Fail  </td></tr>\n",
       "\t<tr><th scope=row>6</th><td>6</td><td>51.9</td><td>40.5</td><td>85.6</td><td>56.0</td><td> 1</td><td>26.2</td><td> 3</td><td>Part-time</td><td>60.3</td><td>Credit</td></tr>\n",
       "</tbody>\n",
       "</table>\n"
      ],
      "text/latex": [
       "A data.frame: 6 × 11\n",
       "\\begin{tabular}{r|lllllllllll}\n",
       "  & Student\\_ID & Assessment\\_1 & Assessment\\_2 & Assessment\\_3A & Assessment\\_3B & Log\\_in\\_Frequency & Session\\_Duration & Program\\_code & Enrollment\\_Status & Final\\_Score & Grade\\\\\n",
       "  & <int> & <dbl> & <dbl> & <dbl> & <dbl> & <int> & <dbl> & <int> & <chr> & <dbl> & <chr>\\\\\n",
       "\\hline\n",
       "\t1 & 1 & 91.5 & 21.0 & 39.0 & 57.8 & 12 & 49.1 & 10 & Part-time & 43.4 & Fail  \\\\\n",
       "\t2 & 2 & 93.7 & 51.9 & 63.0 & 22.3 &  3 & 41.1 &  1 & Full-time & 57.6 & Pass  \\\\\n",
       "\t3 & 3 & 28.6 & 75.7 &  2.6 & 85.4 & 29 & 50.5 &  2 & Full-time & 44.5 & Fail  \\\\\n",
       "\t4 & 4 & 83.0 & 11.9 & 77.5 & 54.5 & 15 & 71.7 &  1 & Full-time & 51.9 & Pass  \\\\\n",
       "\t5 & 5 & 64.2 & 80.6 &  7.1 & 33.2 & 14 & 53.7 &  7 & Full-time & 45.3 & Fail  \\\\\n",
       "\t6 & 6 & 51.9 & 40.5 & 85.6 & 56.0 &  1 & 26.2 &  3 & Part-time & 60.3 & Credit\\\\\n",
       "\\end{tabular}\n"
      ],
      "text/markdown": [
       "\n",
       "A data.frame: 6 × 11\n",
       "\n",
       "| <!--/--> | Student_ID &lt;int&gt; | Assessment_1 &lt;dbl&gt; | Assessment_2 &lt;dbl&gt; | Assessment_3A &lt;dbl&gt; | Assessment_3B &lt;dbl&gt; | Log_in_Frequency &lt;int&gt; | Session_Duration &lt;dbl&gt; | Program_code &lt;int&gt; | Enrollment_Status &lt;chr&gt; | Final_Score &lt;dbl&gt; | Grade &lt;chr&gt; |\n",
       "|---|---|---|---|---|---|---|---|---|---|---|---|\n",
       "| 1 | 1 | 91.5 | 21.0 | 39.0 | 57.8 | 12 | 49.1 | 10 | Part-time | 43.4 | Fail   |\n",
       "| 2 | 2 | 93.7 | 51.9 | 63.0 | 22.3 |  3 | 41.1 |  1 | Full-time | 57.6 | Pass   |\n",
       "| 3 | 3 | 28.6 | 75.7 |  2.6 | 85.4 | 29 | 50.5 |  2 | Full-time | 44.5 | Fail   |\n",
       "| 4 | 4 | 83.0 | 11.9 | 77.5 | 54.5 | 15 | 71.7 |  1 | Full-time | 51.9 | Pass   |\n",
       "| 5 | 5 | 64.2 | 80.6 |  7.1 | 33.2 | 14 | 53.7 |  7 | Full-time | 45.3 | Fail   |\n",
       "| 6 | 6 | 51.9 | 40.5 | 85.6 | 56.0 |  1 | 26.2 |  3 | Part-time | 60.3 | Credit |\n",
       "\n"
      ],
      "text/plain": [
       "  Student_ID Assessment_1 Assessment_2 Assessment_3A Assessment_3B\n",
       "1 1          91.5         21.0         39.0          57.8         \n",
       "2 2          93.7         51.9         63.0          22.3         \n",
       "3 3          28.6         75.7          2.6          85.4         \n",
       "4 4          83.0         11.9         77.5          54.5         \n",
       "5 5          64.2         80.6          7.1          33.2         \n",
       "6 6          51.9         40.5         85.6          56.0         \n",
       "  Log_in_Frequency Session_Duration Program_code Enrollment_Status Final_Score\n",
       "1 12               49.1             10           Part-time         43.4       \n",
       "2  3               41.1              1           Full-time         57.6       \n",
       "3 29               50.5              2           Full-time         44.5       \n",
       "4 15               71.7              1           Full-time         51.9       \n",
       "5 14               53.7              7           Full-time         45.3       \n",
       "6  1               26.2              3           Part-time         60.3       \n",
       "  Grade \n",
       "1 Fail  \n",
       "2 Pass  \n",
       "3 Fail  \n",
       "4 Pass  \n",
       "5 Fail  \n",
       "6 Credit"
      ]
     },
     "metadata": {},
     "output_type": "display_data"
    }
   ],
   "source": [
    "library(dplyr)\n",
    "\n",
    "# Create Grade column based on Final_Score\n",
    "student_data <- student_data %>%\n",
    "  mutate(Grade = case_when(\n",
    "    Final_Score >= 80 ~ \"HD\",\n",
    "    Final_Score >= 70 & Final_Score < 80 ~ \"D\",\n",
    "    Final_Score >= 60 & Final_Score < 70 ~ \"Credit\",\n",
    "    Final_Score >= 50 & Final_Score < 60 ~ \"Pass\",\n",
    "    Final_Score < 50 ~ \"Fail\",\n",
    "    TRUE ~ \"Unknown\"  # In case there are any missing values or unexpected scores\n",
    "  ))\n",
    "\n",
    "# View the updated dataset with the Grade column\n",
    "head(student_data)"
   ]
  },
  {
   "cell_type": "markdown",
   "id": "2c798344",
   "metadata": {},
   "source": [
    "# Analysis"
   ]
  },
  {
   "cell_type": "markdown",
   "id": "9718b25f",
   "metadata": {},
   "source": [
    "## Assessment scores distribution"
   ]
  },
  {
   "cell_type": "code",
   "execution_count": null,
   "id": "f1f9e679",
   "metadata": {},
   "outputs": [],
   "source": [
    "#install.packages(\"ggplot2\")\n"
   ]
  },
  {
   "cell_type": "code",
   "execution_count": null,
   "id": "0867f5e5",
   "metadata": {},
   "outputs": [],
   "source": [
    "#install.packages(\"tidyr\")"
   ]
  },
  {
   "cell_type": "code",
   "execution_count": null,
   "id": "49165167",
   "metadata": {},
   "outputs": [],
   "source": [
    "library(ggplot2)"
   ]
  },
  {
   "cell_type": "code",
   "execution_count": 6,
   "id": "d298b7c1",
   "metadata": {},
   "outputs": [
    {
     "data": {
      "text/html": [
       "<table class=\"dataframe\">\n",
       "<caption>A data.frame: 6 × 8</caption>\n",
       "<thead>\n",
       "\t<tr><th></th><th scope=col>Student_ID</th><th scope=col>Log_in_Frequency</th><th scope=col>Session_Duration</th><th scope=col>Program_code</th><th scope=col>Enrollment_Status</th><th scope=col>Grade</th><th scope=col>Assessment</th><th scope=col>Score</th></tr>\n",
       "\t<tr><th></th><th scope=col>&lt;int&gt;</th><th scope=col>&lt;int&gt;</th><th scope=col>&lt;dbl&gt;</th><th scope=col>&lt;int&gt;</th><th scope=col>&lt;chr&gt;</th><th scope=col>&lt;chr&gt;</th><th scope=col>&lt;chr&gt;</th><th scope=col>&lt;dbl&gt;</th></tr>\n",
       "</thead>\n",
       "<tbody>\n",
       "\t<tr><th scope=row>1</th><td>1</td><td>12</td><td>49.1</td><td>10</td><td>Part-time</td><td>Fail  </td><td>Assessment_1</td><td>91.5</td></tr>\n",
       "\t<tr><th scope=row>2</th><td>2</td><td> 3</td><td>41.1</td><td> 1</td><td>Full-time</td><td>Pass  </td><td>Assessment_1</td><td>93.7</td></tr>\n",
       "\t<tr><th scope=row>3</th><td>3</td><td>29</td><td>50.5</td><td> 2</td><td>Full-time</td><td>Fail  </td><td>Assessment_1</td><td>28.6</td></tr>\n",
       "\t<tr><th scope=row>4</th><td>4</td><td>15</td><td>71.7</td><td> 1</td><td>Full-time</td><td>Pass  </td><td>Assessment_1</td><td>83.0</td></tr>\n",
       "\t<tr><th scope=row>5</th><td>5</td><td>14</td><td>53.7</td><td> 7</td><td>Full-time</td><td>Fail  </td><td>Assessment_1</td><td>64.2</td></tr>\n",
       "\t<tr><th scope=row>6</th><td>6</td><td> 1</td><td>26.2</td><td> 3</td><td>Part-time</td><td>Credit</td><td>Assessment_1</td><td>51.9</td></tr>\n",
       "</tbody>\n",
       "</table>\n"
      ],
      "text/latex": [
       "A data.frame: 6 × 8\n",
       "\\begin{tabular}{r|llllllll}\n",
       "  & Student\\_ID & Log\\_in\\_Frequency & Session\\_Duration & Program\\_code & Enrollment\\_Status & Grade & Assessment & Score\\\\\n",
       "  & <int> & <int> & <dbl> & <int> & <chr> & <chr> & <chr> & <dbl>\\\\\n",
       "\\hline\n",
       "\t1 & 1 & 12 & 49.1 & 10 & Part-time & Fail   & Assessment\\_1 & 91.5\\\\\n",
       "\t2 & 2 &  3 & 41.1 &  1 & Full-time & Pass   & Assessment\\_1 & 93.7\\\\\n",
       "\t3 & 3 & 29 & 50.5 &  2 & Full-time & Fail   & Assessment\\_1 & 28.6\\\\\n",
       "\t4 & 4 & 15 & 71.7 &  1 & Full-time & Pass   & Assessment\\_1 & 83.0\\\\\n",
       "\t5 & 5 & 14 & 53.7 &  7 & Full-time & Fail   & Assessment\\_1 & 64.2\\\\\n",
       "\t6 & 6 &  1 & 26.2 &  3 & Part-time & Credit & Assessment\\_1 & 51.9\\\\\n",
       "\\end{tabular}\n"
      ],
      "text/markdown": [
       "\n",
       "A data.frame: 6 × 8\n",
       "\n",
       "| <!--/--> | Student_ID &lt;int&gt; | Log_in_Frequency &lt;int&gt; | Session_Duration &lt;dbl&gt; | Program_code &lt;int&gt; | Enrollment_Status &lt;chr&gt; | Grade &lt;chr&gt; | Assessment &lt;chr&gt; | Score &lt;dbl&gt; |\n",
       "|---|---|---|---|---|---|---|---|---|\n",
       "| 1 | 1 | 12 | 49.1 | 10 | Part-time | Fail   | Assessment_1 | 91.5 |\n",
       "| 2 | 2 |  3 | 41.1 |  1 | Full-time | Pass   | Assessment_1 | 93.7 |\n",
       "| 3 | 3 | 29 | 50.5 |  2 | Full-time | Fail   | Assessment_1 | 28.6 |\n",
       "| 4 | 4 | 15 | 71.7 |  1 | Full-time | Pass   | Assessment_1 | 83.0 |\n",
       "| 5 | 5 | 14 | 53.7 |  7 | Full-time | Fail   | Assessment_1 | 64.2 |\n",
       "| 6 | 6 |  1 | 26.2 |  3 | Part-time | Credit | Assessment_1 | 51.9 |\n",
       "\n"
      ],
      "text/plain": [
       "  Student_ID Log_in_Frequency Session_Duration Program_code Enrollment_Status\n",
       "1 1          12               49.1             10           Part-time        \n",
       "2 2           3               41.1              1           Full-time        \n",
       "3 3          29               50.5              2           Full-time        \n",
       "4 4          15               71.7              1           Full-time        \n",
       "5 5          14               53.7              7           Full-time        \n",
       "6 6           1               26.2              3           Part-time        \n",
       "  Grade  Assessment   Score\n",
       "1 Fail   Assessment_1 91.5 \n",
       "2 Pass   Assessment_1 93.7 \n",
       "3 Fail   Assessment_1 28.6 \n",
       "4 Pass   Assessment_1 83.0 \n",
       "5 Fail   Assessment_1 64.2 \n",
       "6 Credit Assessment_1 51.9 "
      ]
     },
     "metadata": {},
     "output_type": "display_data"
    }
   ],
   "source": [
    "# Convert your dataset from wide format to long format\n",
    "library(tidyr)\n",
    "\n",
    "# Gather the assessment columns into key-value pairs\n",
    "student_data_long <- gather(student_data, key = \"Assessment\", value = \"Score\", \n",
    "                            Assessment_1, Assessment_2, Assessment_3A, Assessment_3B, Final_Score)\n",
    "\n",
    "# View the transformed dataset \n",
    "head(student_data_long)"
   ]
  },
  {
   "cell_type": "code",
   "execution_count": null,
   "id": "539297b3",
   "metadata": {},
   "outputs": [],
   "source": [
    "# Create the box plot for each assessment\n",
    "ggplot(student_data_long, aes(x = Assessment, y = Score)) + \n",
    "  geom_boxplot(fill = \"skyblue\", color = \"black\", outlier.colour = \"red\", outlier.shape = 16) +\n",
    "  labs(title = \"Box Plot of Assessment Scores\", x = \"Assessment\", y = \"Score\") +\n",
    "  theme(axis.text.x = element_text(angle = 45, hjust = 1))  # Rotate x-axis labels for better readability"
   ]
  },
  {
   "cell_type": "code",
   "execution_count": null,
   "id": "4fec4bf5",
   "metadata": {},
   "outputs": [],
   "source": [
    "# install.packages(\"dplyr\")\n"
   ]
  },
  {
   "cell_type": "markdown",
   "id": "9d83e93c",
   "metadata": {},
   "source": [
    "## Program code vs. grades"
   ]
  },
  {
   "cell_type": "code",
   "execution_count": 9,
   "id": "60f04074",
   "metadata": {},
   "outputs": [
    {
     "data": {
      "text/html": [
       "<table class=\"dataframe\">\n",
       "<caption>A tibble: 6 × 4</caption>\n",
       "<thead>\n",
       "\t<tr><th scope=col>Program_code</th><th scope=col>Grade</th><th scope=col>Count</th><th scope=col>Percentage</th></tr>\n",
       "\t<tr><th scope=col>&lt;int&gt;</th><th scope=col>&lt;chr&gt;</th><th scope=col>&lt;int&gt;</th><th scope=col>&lt;dbl&gt;</th></tr>\n",
       "</thead>\n",
       "<tbody>\n",
       "\t<tr><td>1</td><td>Credit</td><td> 3</td><td>11.111111</td></tr>\n",
       "\t<tr><td>1</td><td>D     </td><td> 1</td><td> 3.703704</td></tr>\n",
       "\t<tr><td>1</td><td>Fail  </td><td>17</td><td>62.962963</td></tr>\n",
       "\t<tr><td>1</td><td>Pass  </td><td> 6</td><td>22.222222</td></tr>\n",
       "\t<tr><td>2</td><td>Credit</td><td> 2</td><td> 8.000000</td></tr>\n",
       "\t<tr><td>2</td><td>D     </td><td> 1</td><td> 4.000000</td></tr>\n",
       "</tbody>\n",
       "</table>\n"
      ],
      "text/latex": [
       "A tibble: 6 × 4\n",
       "\\begin{tabular}{llll}\n",
       " Program\\_code & Grade & Count & Percentage\\\\\n",
       " <int> & <chr> & <int> & <dbl>\\\\\n",
       "\\hline\n",
       "\t 1 & Credit &  3 & 11.111111\\\\\n",
       "\t 1 & D      &  1 &  3.703704\\\\\n",
       "\t 1 & Fail   & 17 & 62.962963\\\\\n",
       "\t 1 & Pass   &  6 & 22.222222\\\\\n",
       "\t 2 & Credit &  2 &  8.000000\\\\\n",
       "\t 2 & D      &  1 &  4.000000\\\\\n",
       "\\end{tabular}\n"
      ],
      "text/markdown": [
       "\n",
       "A tibble: 6 × 4\n",
       "\n",
       "| Program_code &lt;int&gt; | Grade &lt;chr&gt; | Count &lt;int&gt; | Percentage &lt;dbl&gt; |\n",
       "|---|---|---|---|\n",
       "| 1 | Credit |  3 | 11.111111 |\n",
       "| 1 | D      |  1 |  3.703704 |\n",
       "| 1 | Fail   | 17 | 62.962963 |\n",
       "| 1 | Pass   |  6 | 22.222222 |\n",
       "| 2 | Credit |  2 |  8.000000 |\n",
       "| 2 | D      |  1 |  4.000000 |\n",
       "\n"
      ],
      "text/plain": [
       "  Program_code Grade  Count Percentage\n",
       "1 1            Credit  3    11.111111 \n",
       "2 1            D       1     3.703704 \n",
       "3 1            Fail   17    62.962963 \n",
       "4 1            Pass    6    22.222222 \n",
       "5 2            Credit  2     8.000000 \n",
       "6 2            D       1     4.000000 "
      ]
     },
     "metadata": {},
     "output_type": "display_data"
    }
   ],
   "source": [
    "# Calculate the percentage of each grade by Program Code\n",
    "grade_percentage <- student_data %>%\n",
    "  group_by(Program_code, Grade) %>%\n",
    "  summarise(Count = n(), .groups = \"drop\") %>%  # Use .groups = \"drop\" to prevent grouping in the output\n",
    "  group_by(Program_code) %>%\n",
    "  mutate(Percentage = (Count / sum(Count)) * 100) %>%\n",
    "  ungroup()\n",
    "\n",
    "# View the grade percentage table (optional)\n",
    "head(grade_percentage)"
   ]
  },
  {
   "cell_type": "code",
   "execution_count": 10,
   "id": "dca2856a",
   "metadata": {},
   "outputs": [
    {
     "data": {
      "image/png": "[encoded data removed]",
      "text/plain": [
       "plot without title"
      ]
     },
     "metadata": {
      "image/png": {
       "height": 420,
       "width": 420
      }
     },
     "output_type": "display_data"
    }
   ],
   "source": [
    "library(ggplot2)\n",
    "# Bar plot for grade distribution by Program Code\n",
    "ggplot(grade_percentage, aes(x = Program_code, y = Percentage, fill = Grade)) +\n",
    "  geom_bar(stat = \"identity\", position = \"stack\") +\n",
    "  labs(title = \"Grade Distribution by Program Code\", x = \"Program Code\", y = \"Percentage (%)\") +\n",
    "  theme(axis.text.x = element_text(angle = 45, hjust = 1)) +  # Rotate x-axis labels for readability\n",
    "  scale_fill_brewer(palette = \"Set3\")  # Color palette for better visual appeal"
   ]
  },
  {
   "cell_type": "code",
   "execution_count": 11,
   "id": "2a1fa8b1",
   "metadata": {
    "scrolled": true
   },
   "outputs": [
    {
     "data": {
      "image/png": "[encoded data removed]",
      "text/plain": [
       "plot without title"
      ]
     },
     "metadata": {
      "image/png": {
       "height": 420,
       "width": 420
      }
     },
     "output_type": "display_data"
    }
   ],
   "source": [
    "# Reorder the Grade factor to control the stacking order\n",
    "grade_percentage$Grade <- factor(grade_percentage$Grade, levels = c(\"HD\", \"D\", \"Credit\", \"Pass\", \"Fail\"))\n",
    "\n",
    "# Bar plot for grade distribution by Program Code\n",
    "ggplot(grade_percentage, aes(x = Program_code, y = Percentage, fill = Grade)) +\n",
    "  geom_bar(stat = \"identity\", position = \"stack\") +\n",
    "  labs(title = \"Grade Distribution by Program Code\", x = \"Program Code\", y = \"Percentage (%)\") +\n",
    "  theme(axis.text.x = element_text(angle = 45, hjust = 1)) +  # Rotate x-axis labels for readability\n",
    "  scale_fill_brewer(palette = \"Set3\")  # Color palette for better visual appeal"
   ]
  },
  {
   "cell_type": "markdown",
   "id": "3b5614e4",
   "metadata": {},
   "source": [
    "## Session Duration over Final Score"
   ]
  },
  {
   "cell_type": "code",
   "execution_count": 12,
   "id": "6d1cd738",
   "metadata": {},
   "outputs": [
    {
     "name": "stderr",
     "output_type": "stream",
     "text": [
      "\u001b[1m\u001b[22m`geom_smooth()` using formula = 'y ~ x'\n"
     ]
    },
    {
     "data": {
      "image/png": "[encoded data removed]",
      "text/plain": [
       "plot without title"
      ]
     },
     "metadata": {
      "image/png": {
       "height": 420,
       "width": 420
      }
     },
     "output_type": "display_data"
    }
   ],
   "source": [
    "# Scatter plot of Final Score vs. Session Duration\n",
    "ggplot(student_data, aes(x = Session_Duration, y = Final_Score)) +\n",
    "  geom_point(color = \"blue\", alpha = 0.6) +  # Points in blue with some transparency\n",
    "  labs(title = \"Final Score vs. Session Duration\", \n",
    "       x = \"Session Duration (hours)\", \n",
    "       y = \"Final Score\") +\n",
    "  theme_minimal() +  # Minimal theme for better readability\n",
    "  geom_smooth(method = \"lm\", color = \"red\", se = FALSE)  # Optional: Add a regression line"
   ]
  },
  {
   "cell_type": "code",
   "execution_count": null,
   "id": "1ce29b3c",
   "metadata": {},
   "outputs": [],
   "source": [
    "head(student_data)"
   ]
  },
  {
   "cell_type": "markdown",
   "id": "c31031e1",
   "metadata": {},
   "source": [
    "## Enrolment status vs. grade"
   ]
  },
  {
   "cell_type": "code",
   "execution_count": 13,
   "id": "d5847d8c",
   "metadata": {},
   "outputs": [
    {
     "name": "stderr",
     "output_type": "stream",
     "text": [
      "\u001b[1m\u001b[22m`summarise()` has grouped output by 'Enrollment_Status'. You can override using\n",
      "the `.groups` argument.\n"
     ]
    },
    {
     "data": {
      "image/png": "[encoded data removed]",
      "text/plain": [
       "plot without title"
      ]
     },
     "metadata": {
      "image/png": {
       "height": 420,
       "width": 420
      }
     },
     "output_type": "display_data"
    },
    {
     "data": {
      "image/png": "[encoded data removed]",
      "text/plain": [
       "plot without title"
      ]
     },
     "metadata": {
      "image/png": {
       "height": 420,
       "width": 420
      }
     },
     "output_type": "display_data"
    }
   ],
   "source": [
    "# Summarize data by enrollment status and grade\n",
    "grade_summary <- student_data %>%\n",
    "  group_by(Enrollment_Status, Grade) %>%\n",
    "  summarise(Count = n()) %>%\n",
    "  mutate(Percentage = Count / sum(Count) * 100)\n",
    "\n",
    "# Create pie charts\n",
    "# Full-time students\n",
    "full_time_data <- grade_summary %>% filter(Enrollment_Status == \"Full-time\")\n",
    "full_time_pie <- ggplot(full_time_data, aes(x = \"\", y = Percentage, fill = Grade)) +\n",
    "  geom_bar(stat = \"identity\", width = 1) +\n",
    "  coord_polar(\"y\") +\n",
    "  labs(title = \"Grade Distribution (Full-time)\", x = NULL, y = NULL) +\n",
    "  theme_minimal() +\n",
    "  theme(axis.text = element_blank(), axis.ticks = element_blank()) +\n",
    "  scale_fill_brewer(palette = \"Set3\")\n",
    "\n",
    "# Part-time students\n",
    "part_time_data <- grade_summary %>% filter(Enrollment_Status == \"Part-time\")\n",
    "part_time_pie <- ggplot(part_time_data, aes(x = \"\", y = Percentage, fill = Grade)) +\n",
    "  geom_bar(stat = \"identity\", width = 1) +\n",
    "  coord_polar(\"y\") +\n",
    "  labs(title = \"Grade Distribution (Part-time)\", x = NULL, y = NULL) +\n",
    "  theme_minimal() +\n",
    "  theme(axis.text = element_blank(), axis.ticks = element_blank()) +\n",
    "  scale_fill_brewer(palette = \"Set3\")\n",
    "\n",
    "# Display the plots\n",
    "print(full_time_pie)\n",
    "print(part_time_pie)"
   ]
  }
 ],
 "metadata": {
  "kernelspec": {
   "display_name": "R",
   "language": "R",
   "name": "ir"
  },
  "language_info": {
   "codemirror_mode": "r",
   "file_extension": ".r",
   "mimetype": "text/x-r-source",
   "name": "R",
   "pygments_lexer": "r",
   "version": "4.4.2"
  }
 },
 "nbformat": 4,
 "nbformat_minor": 5
}
